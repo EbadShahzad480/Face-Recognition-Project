{
 "cells": [
  {
   "cell_type": "markdown",
   "metadata": {},
   "source": [
    "## Importing Library"
   ]
  },
  {
   "cell_type": "code",
   "execution_count": 3,
   "metadata": {},
   "outputs": [],
   "source": [
    "from __future__ import print_function\n",
    "import keras  # importing everything from keras (mainly for the Keras models, layers etc...)\n",
    "from keras.preprocessing.image import ImageDataGenerator # to be used Generate batches of tensor image\n",
    "from keras.models import Sequential # Sequential model \n",
    "from keras.layers import Dense,Dropout,Activation,Flatten,BatchNormalization  # \n",
    "from keras.layers import Conv2D,MaxPooling2D # to use convolutional neural network\n",
    "from keras.optimizers import RMSprop,SGD,Adam  #  to validate accuracy and loss in our sequential  model\n",
    "from keras.callbacks import ModelCheckpoint, EarlyStopping, ReduceLROnPlateau\n",
    "import os # to operate with the file system of the project\n",
    "import pandas as pd # to be used along the confusion matrix\n",
    "import seaborn as sn # to be used along the confusion matrix\n",
    "from imutils import paths # to operate with the path structure of the project\n",
    "import matplotlib.pyplot as plt # to plot the results over the given training duration\n",
    "from sklearn.metrics import confusion_matrix, classification_report # to produce a confusion matrix \n",
    "from keras.preprocessing.image import ImageDataGenerator # to preprocess the image data before feeding it into the model\n",
    "from numpy import argmax # to return the indices in max element in an array (used in the confusion matrix)\n",
    "import datetime # to calculate the training duration"
   ]
  },
  {
   "cell_type": "markdown",
   "metadata": {},
   "source": [
    "## Global Parameters"
   ]
  },
  {
   "cell_type": "code",
   "execution_count": 4,
   "metadata": {},
   "outputs": [
    {
     "name": "stdout",
     "output_type": "stream",
     "text": [
      "[INFO] Setting up goblal parameters...\n"
     ]
    }
   ],
   "source": [
    "print(\"[INFO] Setting up goblal parameters...\")\n",
    "num_classes = 7        #  no of output features\n",
    "img_rows,img_cols = 48,48       # 48 by 48 pixel images gray scale image\n",
    "batch_size = 32        # batch size 32. \n",
    "epochs=25       \n"
   ]
  },
  {
   "cell_type": "markdown",
   "metadata": {},
   "source": [
    "## Datasets Directories "
   ]
  },
  {
   "cell_type": "code",
   "execution_count": 6,
   "metadata": {},
   "outputs": [],
   "source": [
    "train_data_dir = 'Users\\\\Haier\\\\Downloads\\\\Compressed\\\\Data Set\\\\images\\\\images\\\\train'\n",
    "validation_data_dir = 'C:\\\\Users\\\\Haier\\\\Downloads\\\\Compressed\\\\Data Set\\\\images\\\\images\\\\validation'\n",
    "\n"
   ]
  },
  {
   "cell_type": "markdown",
   "metadata": {},
   "source": [
    "# Data Generator and Augment"
   ]
  },
  {
   "cell_type": "code",
   "execution_count": 7,
   "metadata": {},
   "outputs": [
    {
     "name": "stdout",
     "output_type": "stream",
     "text": [
      "[INFO] building data generators...\n",
      "\n",
      "Found 28821 images belonging to 7 classes.\n",
      "Found 7066 images belonging to 7 classes.\n"
     ]
    }
   ],
   "source": [
    "print(\"[INFO] building data generators...\\n\")\n",
    "\n",
    "# Generate batches of tensor image data with real-time data augmentation.\n",
    "train_datagen = ImageDataGenerator(rescale=1./255,\n",
    "                rotation_range=30,\n",
    "                shear_range=0.3,\n",
    "                zoom_range=0.3,\n",
    "                width_shift_range=0.4,\n",
    "                height_shift_range=0.4,\n",
    "                horizontal_flip=True,\n",
    "                fill_mode='nearest')\n",
    "\n",
    "\n",
    "# Normalized images\n",
    "validation_datagen = ImageDataGenerator(rescale=1./255)\n",
    "\n",
    "# transforming train images and masks together.\n",
    "train_generator = train_datagen.flow_from_directory(\n",
    "                    train_data_dir,\n",
    "                    color_mode='grayscale',\n",
    "                    target_size=(img_rows,img_cols),\n",
    "                    batch_size=batch_size,\n",
    "                    class_mode='categorical',\n",
    "                    shuffle=True)\n",
    "\n",
    "\n",
    "# transforming validatiom images and masks together.\n",
    "validation_generator = validation_datagen.flow_from_directory(\n",
    "                        validation_data_dir,\n",
    "                        color_mode='grayscale',\n",
    "                        target_size=(img_rows,img_cols),\n",
    "                        batch_size=batch_size,\n",
    "                        class_mode='categorical',\n",
    "                        shuffle=True)\n",
    "\n"
   ]
  },
  {
   "cell_type": "markdown",
   "metadata": {},
   "source": [
    "## Model Creation (Classifier) "
   ]
  },
  {
   "cell_type": "code",
   "execution_count": 8,
   "metadata": {},
   "outputs": [],
   "source": [
    "model = Sequential() # sequential model is initialize\n",
    "\n",
    "# model structutr 1\n",
    "model.add(Conv2D(32,(3,3),padding='same',kernel_initializer='he_normal',input_shape=(img_rows,img_cols,1)))\n",
    "model.add(Activation('elu'))\n",
    "model.add(BatchNormalization())\n",
    "model.add(Conv2D(32,(3,3),padding='same',kernel_initializer='he_normal',input_shape=(img_rows,img_cols,1)))\n",
    "model.add(Activation('elu'))\n",
    "model.add(BatchNormalization())\n",
    "model.add(MaxPooling2D(pool_size=(2,2)))\n",
    "model.add(Dropout(0.2))\n",
    "\n",
    "# model structutr 2\n",
    "\n",
    "model.add(Conv2D(64,(3,3),padding='same',kernel_initializer='he_normal'))\n",
    "model.add(Activation('elu'))\n",
    "model.add(BatchNormalization())\n",
    "model.add(Conv2D(64,(3,3),padding='same',kernel_initializer='he_normal'))\n",
    "model.add(Activation('elu'))\n",
    "model.add(BatchNormalization())\n",
    "model.add(MaxPooling2D(pool_size=(2,2)))\n",
    "model.add(Dropout(0.2))\n",
    "\n",
    "\n",
    "# model structutr 3\n",
    "\n",
    "model.add(Conv2D(128,(3,3),padding='same',kernel_initializer='he_normal'))\n",
    "model.add(Activation('elu'))\n",
    "model.add(BatchNormalization())\n",
    "model.add(Conv2D(128,(3,3),padding='same',kernel_initializer='he_normal'))\n",
    "model.add(Activation('elu'))\n",
    "model.add(BatchNormalization())\n",
    "model.add(MaxPooling2D(pool_size=(2,2)))\n",
    "model.add(Dropout(0.2))\n",
    "\n",
    "# model structutr 4\n",
    "\n",
    "model.add(Conv2D(256,(3,3),padding='same',kernel_initializer='he_normal'))\n",
    "model.add(Activation('elu'))\n",
    "model.add(BatchNormalization())\n",
    "model.add(Conv2D(256,(3,3),padding='same',kernel_initializer='he_normal'))\n",
    "model.add(Activation('elu'))\n",
    "model.add(BatchNormalization())\n",
    "model.add(MaxPooling2D(pool_size=(2,2)))\n",
    "model.add(Dropout(0.2))\n",
    "\n",
    "# model structutr 5\n",
    "\n",
    "model.add(Flatten())\n",
    "model.add(Dense(64,kernel_initializer='he_normal'))\n",
    "model.add(Activation('elu'))\n",
    "model.add(BatchNormalization())\n",
    "model.add(Dropout(0.5))\n",
    "\n",
    "# model structutr 6\n",
    "\n",
    "model.add(Dense(64,kernel_initializer='he_normal'))\n",
    "model.add(Activation('elu'))\n",
    "model.add(BatchNormalization())\n",
    "model.add(Dropout(0.5))\n",
    "\n",
    "# model structutr 7\n",
    "# final layer must be softmax [its return probability ]\n",
    "\n",
    "model.add(Dense(num_classes,kernel_initializer='he_normal'))\n",
    "model.add(Activation('softmax'))"
   ]
  },
  {
   "cell_type": "code",
   "execution_count": 9,
   "metadata": {},
   "outputs": [
    {
     "name": "stdout",
     "output_type": "stream",
     "text": [
      "Model: \"sequential\"\n",
      "_________________________________________________________________\n",
      "Layer (type)                 Output Shape              Param #   \n",
      "=================================================================\n",
      "conv2d (Conv2D)              (None, 48, 48, 32)        320       \n",
      "_________________________________________________________________\n",
      "activation (Activation)      (None, 48, 48, 32)        0         \n",
      "_________________________________________________________________\n",
      "batch_normalization (BatchNo (None, 48, 48, 32)        128       \n",
      "_________________________________________________________________\n",
      "conv2d_1 (Conv2D)            (None, 48, 48, 32)        9248      \n",
      "_________________________________________________________________\n",
      "activation_1 (Activation)    (None, 48, 48, 32)        0         \n",
      "_________________________________________________________________\n",
      "batch_normalization_1 (Batch (None, 48, 48, 32)        128       \n",
      "_________________________________________________________________\n",
      "max_pooling2d (MaxPooling2D) (None, 24, 24, 32)        0         \n",
      "_________________________________________________________________\n",
      "dropout (Dropout)            (None, 24, 24, 32)        0         \n",
      "_________________________________________________________________\n",
      "conv2d_2 (Conv2D)            (None, 24, 24, 64)        18496     \n",
      "_________________________________________________________________\n",
      "activation_2 (Activation)    (None, 24, 24, 64)        0         \n",
      "_________________________________________________________________\n",
      "batch_normalization_2 (Batch (None, 24, 24, 64)        256       \n",
      "_________________________________________________________________\n",
      "conv2d_3 (Conv2D)            (None, 24, 24, 64)        36928     \n",
      "_________________________________________________________________\n",
      "activation_3 (Activation)    (None, 24, 24, 64)        0         \n",
      "_________________________________________________________________\n",
      "batch_normalization_3 (Batch (None, 24, 24, 64)        256       \n",
      "_________________________________________________________________\n",
      "max_pooling2d_1 (MaxPooling2 (None, 12, 12, 64)        0         \n",
      "_________________________________________________________________\n",
      "dropout_1 (Dropout)          (None, 12, 12, 64)        0         \n",
      "_________________________________________________________________\n",
      "conv2d_4 (Conv2D)            (None, 12, 12, 128)       73856     \n",
      "_________________________________________________________________\n",
      "activation_4 (Activation)    (None, 12, 12, 128)       0         \n",
      "_________________________________________________________________\n",
      "batch_normalization_4 (Batch (None, 12, 12, 128)       512       \n",
      "_________________________________________________________________\n",
      "conv2d_5 (Conv2D)            (None, 12, 12, 128)       147584    \n",
      "_________________________________________________________________\n",
      "activation_5 (Activation)    (None, 12, 12, 128)       0         \n",
      "_________________________________________________________________\n",
      "batch_normalization_5 (Batch (None, 12, 12, 128)       512       \n",
      "_________________________________________________________________\n",
      "max_pooling2d_2 (MaxPooling2 (None, 6, 6, 128)         0         \n",
      "_________________________________________________________________\n",
      "dropout_2 (Dropout)          (None, 6, 6, 128)         0         \n",
      "_________________________________________________________________\n",
      "conv2d_6 (Conv2D)            (None, 6, 6, 256)         295168    \n",
      "_________________________________________________________________\n",
      "activation_6 (Activation)    (None, 6, 6, 256)         0         \n",
      "_________________________________________________________________\n",
      "batch_normalization_6 (Batch (None, 6, 6, 256)         1024      \n",
      "_________________________________________________________________\n",
      "conv2d_7 (Conv2D)            (None, 6, 6, 256)         590080    \n",
      "_________________________________________________________________\n",
      "activation_7 (Activation)    (None, 6, 6, 256)         0         \n",
      "_________________________________________________________________\n",
      "batch_normalization_7 (Batch (None, 6, 6, 256)         1024      \n",
      "_________________________________________________________________\n",
      "max_pooling2d_3 (MaxPooling2 (None, 3, 3, 256)         0         \n",
      "_________________________________________________________________\n",
      "dropout_3 (Dropout)          (None, 3, 3, 256)         0         \n",
      "_________________________________________________________________\n",
      "flatten (Flatten)            (None, 2304)              0         \n",
      "_________________________________________________________________\n",
      "dense (Dense)                (None, 64)                147520    \n",
      "_________________________________________________________________\n",
      "activation_8 (Activation)    (None, 64)                0         \n",
      "_________________________________________________________________\n",
      "batch_normalization_8 (Batch (None, 64)                256       \n",
      "_________________________________________________________________\n",
      "dropout_4 (Dropout)          (None, 64)                0         \n",
      "_________________________________________________________________\n",
      "dense_1 (Dense)              (None, 64)                4160      \n",
      "_________________________________________________________________\n",
      "activation_9 (Activation)    (None, 64)                0         \n",
      "_________________________________________________________________\n",
      "batch_normalization_9 (Batch (None, 64)                256       \n",
      "_________________________________________________________________\n",
      "dropout_5 (Dropout)          (None, 64)                0         \n",
      "_________________________________________________________________\n",
      "dense_2 (Dense)              (None, 7)                 455       \n",
      "_________________________________________________________________\n",
      "activation_10 (Activation)   (None, 7)                 0         \n",
      "=================================================================\n",
      "Total params: 1,328,167\n",
      "Trainable params: 1,325,991\n",
      "Non-trainable params: 2,176\n",
      "_________________________________________________________________\n",
      "None\n"
     ]
    }
   ],
   "source": [
    "# checking the model structure\n",
    "print(model.summary())"
   ]
  },
  {
   "cell_type": "markdown",
   "metadata": {},
   "source": [
    "## Saving Model  and Earley  Stop"
   ]
  },
  {
   "cell_type": "code",
   "execution_count": 13,
   "metadata": {},
   "outputs": [],
   "source": [
    "checkpoint = ModelCheckpoint(r'C:\\\\Users\\\\Haier\\\\OneDrive\\\\Freelancing Work\\\\FaceDetection\\\\Emotion_little_vgg.h5',\n",
    "                             monitor='val_loss',\n",
    "                             mode='min',\n",
    "                             save_best_only=True,\n",
    "                             verbose=1)\n",
    "\n",
    "earlystop = EarlyStopping(monitor='val_loss',\n",
    "                          min_delta=0,\n",
    "                          patience=4,           \n",
    "                          verbose=1,\n",
    "                          restore_best_weights=True\n",
    "                          )\n",
    "\n",
    "reduce_lr = ReduceLROnPlateau(monitor='val_loss',\n",
    "                              factor=0.2,\n",
    "                              patience=4,\n",
    "                              verbose=1,\n",
    "                              min_delta=0.0001)\n",
    "\n",
    "callbacks = [earlystop,checkpoint,reduce_lr]\n",
    "\n",
    "\n"
   ]
  },
  {
   "cell_type": "markdown",
   "metadata": {},
   "source": [
    "## Training Model (Classifier)\n"
   ]
  },
  {
   "cell_type": "code",
   "execution_count": 14,
   "metadata": {},
   "outputs": [
    {
     "name": "stdout",
     "output_type": "stream",
     "text": [
      "[INFO] compiling model...\n"
     ]
    }
   ],
   "source": [
    "# compiling the model\n",
    "print(\"[INFO] compiling model...\")\n",
    "model.compile(loss='categorical_crossentropy',\n",
    "              optimizer = Adam(lr=0.001),\n",
    "              metrics=['accuracy'])"
   ]
  },
  {
   "cell_type": "code",
   "execution_count": 15,
   "metadata": {},
   "outputs": [
    {
     "name": "stdout",
     "output_type": "stream",
     "text": [
      "[INFO] training model...\n",
      "\n",
      "[INFO] training model...\n",
      "\n",
      "Epoch 1/25\n",
      "755/755 [==============================] - 1032s 1s/step - loss: 1.8676 - accuracy: 0.2142 - val_loss: 1.7740 - val_accuracy: 0.2705\n",
      "\n",
      "Epoch 00001: val_loss improved from inf to 1.77402, saving model to C:\\\\Users\\\\Haier\\\\OneDrive\\\\Freelancing Work\\\\FaceDetection\\Emotion_little_vgg.h5\n",
      "Epoch 2/25\n",
      "755/755 [==============================] - 1010s 1s/step - loss: 1.8043 - accuracy: 0.2440 - val_loss: 1.7434 - val_accuracy: 0.2893\n",
      "\n",
      "Epoch 00002: val_loss improved from 1.77402 to 1.74338, saving model to C:\\\\Users\\\\Haier\\\\OneDrive\\\\Freelancing Work\\\\FaceDetection\\Emotion_little_vgg.h5\n",
      "Epoch 3/25\n",
      "755/755 [==============================] - 1114s 1s/step - loss: 1.7759 - accuracy: 0.2630 - val_loss: 1.7302 - val_accuracy: 0.2923\n",
      "\n",
      "Epoch 00003: val_loss improved from 1.74338 to 1.73023, saving model to C:\\\\Users\\\\Haier\\\\OneDrive\\\\Freelancing Work\\\\FaceDetection\\Emotion_little_vgg.h5\n",
      "Epoch 4/25\n",
      "755/755 [==============================] - 1078s 1s/step - loss: 1.7328 - accuracy: 0.2911 - val_loss: 1.6112 - val_accuracy: 0.3414\n",
      "\n",
      "Epoch 00004: val_loss improved from 1.73023 to 1.61118, saving model to C:\\\\Users\\\\Haier\\\\OneDrive\\\\Freelancing Work\\\\FaceDetection\\Emotion_little_vgg.h5\n",
      "Epoch 5/25\n",
      "755/755 [==============================] - 1008s 1s/step - loss: 1.6902 - accuracy: 0.3062 - val_loss: 1.7192 - val_accuracy: 0.3619\n",
      "\n",
      "Epoch 00005: val_loss did not improve from 1.61118\n",
      "Epoch 6/25\n",
      "755/755 [==============================] - 997s 1s/step - loss: 1.6286 - accuracy: 0.3547 - val_loss: 1.4308 - val_accuracy: 0.4466\n",
      "\n",
      "Epoch 00006: val_loss improved from 1.61118 to 1.43081, saving model to C:\\\\Users\\\\Haier\\\\OneDrive\\\\Freelancing Work\\\\FaceDetection\\Emotion_little_vgg.h5\n",
      "Epoch 7/25\n",
      "755/755 [==============================] - 1032s 1s/step - loss: 1.5572 - accuracy: 0.3928 - val_loss: 1.2886 - val_accuracy: 0.5108\n",
      "\n",
      "Epoch 00007: val_loss improved from 1.43081 to 1.28856, saving model to C:\\\\Users\\\\Haier\\\\OneDrive\\\\Freelancing Work\\\\FaceDetection\\Emotion_little_vgg.h5\n",
      "Epoch 8/25\n",
      "755/755 [==============================] - 1024s 1s/step - loss: 1.5131 - accuracy: 0.4083 - val_loss: 1.2742 - val_accuracy: 0.5148\n",
      "\n",
      "Epoch 00008: val_loss improved from 1.28856 to 1.27425, saving model to C:\\\\Users\\\\Haier\\\\OneDrive\\\\Freelancing Work\\\\FaceDetection\\Emotion_little_vgg.h5\n",
      "Epoch 9/25\n",
      "755/755 [==============================] - 982s 1s/step - loss: 1.4854 - accuracy: 0.4264 - val_loss: 1.2526 - val_accuracy: 0.5138\n",
      "\n",
      "Epoch 00009: val_loss improved from 1.27425 to 1.25260, saving model to C:\\\\Users\\\\Haier\\\\OneDrive\\\\Freelancing Work\\\\FaceDetection\\Emotion_little_vgg.h5\n",
      "Epoch 10/25\n",
      "755/755 [==============================] - 962s 1s/step - loss: 1.4521 - accuracy: 0.4394 - val_loss: 1.2232 - val_accuracy: 0.5218\n",
      "\n",
      "Epoch 00010: val_loss improved from 1.25260 to 1.22324, saving model to C:\\\\Users\\\\Haier\\\\OneDrive\\\\Freelancing Work\\\\FaceDetection\\Emotion_little_vgg.h5\n",
      "Epoch 11/25\n",
      "755/755 [==============================] - 1031s 1s/step - loss: 1.4320 - accuracy: 0.4483 - val_loss: 1.1778 - val_accuracy: 0.5514\n",
      "\n",
      "Epoch 00011: val_loss improved from 1.22324 to 1.17776, saving model to C:\\\\Users\\\\Haier\\\\OneDrive\\\\Freelancing Work\\\\FaceDetection\\Emotion_little_vgg.h5\n",
      "Epoch 12/25\n",
      "755/755 [==============================] - 1024s 1s/step - loss: 1.4054 - accuracy: 0.4599 - val_loss: 1.1680 - val_accuracy: 0.5477\n",
      "\n",
      "Epoch 00012: val_loss improved from 1.17776 to 1.16800, saving model to C:\\\\Users\\\\Haier\\\\OneDrive\\\\Freelancing Work\\\\FaceDetection\\Emotion_little_vgg.h5\n",
      "Epoch 13/25\n",
      "755/755 [==============================] - 1013s 1s/step - loss: 1.3956 - accuracy: 0.4650 - val_loss: 1.1449 - val_accuracy: 0.5642\n",
      "\n",
      "Epoch 00013: val_loss improved from 1.16800 to 1.14488, saving model to C:\\\\Users\\\\Haier\\\\OneDrive\\\\Freelancing Work\\\\FaceDetection\\Emotion_little_vgg.h5\n",
      "Epoch 14/25\n",
      "755/755 [==============================] - 1015s 1s/step - loss: 1.3779 - accuracy: 0.4712 - val_loss: 1.1394 - val_accuracy: 0.5635\n",
      "\n",
      "Epoch 00014: val_loss improved from 1.14488 to 1.13936, saving model to C:\\\\Users\\\\Haier\\\\OneDrive\\\\Freelancing Work\\\\FaceDetection\\Emotion_little_vgg.h5\n",
      "Epoch 15/25\n",
      "755/755 [==============================] - 1042s 1s/step - loss: 1.3925 - accuracy: 0.4731 - val_loss: 1.1728 - val_accuracy: 0.5437\n",
      "\n",
      "Epoch 00015: val_loss did not improve from 1.13936\n",
      "Epoch 16/25\n",
      "755/755 [==============================] - 1019s 1s/step - loss: 1.3676 - accuracy: 0.4775 - val_loss: 1.1463 - val_accuracy: 0.5534\n",
      "\n",
      "Epoch 00016: val_loss did not improve from 1.13936\n",
      "Epoch 17/25\n",
      "755/755 [==============================] - 1205s 2s/step - loss: 1.3442 - accuracy: 0.4854 - val_loss: 1.1462 - val_accuracy: 0.5635\n",
      "\n",
      "Epoch 00017: val_loss did not improve from 1.13936\n",
      "Epoch 18/25\n",
      "755/755 [==============================] - 1092s 1s/step - loss: 1.3478 - accuracy: 0.4855 - val_loss: 1.1358 - val_accuracy: 0.5581\n",
      "\n",
      "Epoch 00018: val_loss improved from 1.13936 to 1.13581, saving model to C:\\\\Users\\\\Haier\\\\OneDrive\\\\Freelancing Work\\\\FaceDetection\\Emotion_little_vgg.h5\n",
      "Epoch 19/25\n",
      "755/755 [==============================] - 1069s 1s/step - loss: 1.3454 - accuracy: 0.4853 - val_loss: 1.1144 - val_accuracy: 0.5786\n",
      "\n",
      "Epoch 00019: val_loss improved from 1.13581 to 1.11445, saving model to C:\\\\Users\\\\Haier\\\\OneDrive\\\\Freelancing Work\\\\FaceDetection\\Emotion_little_vgg.h5\n",
      "Epoch 20/25\n",
      "755/755 [==============================] - 1148s 2s/step - loss: 1.3323 - accuracy: 0.4909 - val_loss: 1.1520 - val_accuracy: 0.5568\n",
      "\n",
      "Epoch 00020: val_loss did not improve from 1.11445\n",
      "Epoch 21/25\n",
      "755/755 [==============================] - 1071s 1s/step - loss: 1.3249 - accuracy: 0.4961 - val_loss: 1.1302 - val_accuracy: 0.5729\n",
      "\n",
      "Epoch 00021: val_loss did not improve from 1.11445\n",
      "Epoch 22/25\n",
      "755/755 [==============================] - 1075s 1s/step - loss: 1.3157 - accuracy: 0.5045 - val_loss: 1.1265 - val_accuracy: 0.5652\n",
      "\n",
      "Epoch 00022: val_loss did not improve from 1.11445\n",
      "Epoch 23/25\n",
      "755/755 [==============================] - 1219s 2s/step - loss: 1.3036 - accuracy: 0.5078 - val_loss: 1.1114 - val_accuracy: 0.5756\n",
      "\n",
      "Epoch 00023: val_loss improved from 1.11445 to 1.11143, saving model to C:\\\\Users\\\\Haier\\\\OneDrive\\\\Freelancing Work\\\\FaceDetection\\Emotion_little_vgg.h5\n",
      "Epoch 24/25\n",
      "755/755 [==============================] - 1114s 1s/step - loss: 1.3076 - accuracy: 0.5071 - val_loss: 1.0643 - val_accuracy: 0.5917\n",
      "\n",
      "Epoch 00024: val_loss improved from 1.11143 to 1.06430, saving model to C:\\\\Users\\\\Haier\\\\OneDrive\\\\Freelancing Work\\\\FaceDetection\\Emotion_little_vgg.h5\n",
      "Epoch 25/25\n",
      "755/755 [==============================] - 1225s 2s/step - loss: 1.2876 - accuracy: 0.5155 - val_loss: 1.0762 - val_accuracy: 0.5951\n",
      "\n",
      "Epoch 00025: val_loss did not improve from 1.06430\n"
     ]
    }
   ],
   "source": [
    "# training the model & getting the training duration\n",
    "print(\"[INFO] training model...\\n\")\n",
    "\n",
    "nb_train_samples = 24176\n",
    "nb_validation_samples = 3006\n",
    "\n",
    "print(\"[INFO] training model...\\n\")\n",
    "start = datetime.datetime.now()\n",
    "history=model.fit_generator(\n",
    "                train_generator,\n",
    "                steps_per_epoch=nb_train_samples//batch_size,\n",
    "                epochs=epochs,\n",
    "                callbacks=callbacks,\n",
    "                validation_data=validation_generator,\n",
    "                validation_steps=nb_validation_samples//batch_size)\n",
    "\n",
    "end = datetime.datetime.now()\n",
    "elapsed = end-start"
   ]
  },
  {
   "cell_type": "code",
   "execution_count": 16,
   "metadata": {},
   "outputs": [
    {
     "name": "stdout",
     "output_type": "stream",
     "text": [
      "training duration:  7:23:29.606717\n"
     ]
    }
   ],
   "source": [
    "print('training duration: ', elapsed)"
   ]
  },
  {
   "cell_type": "markdown",
   "metadata": {},
   "source": [
    "##  Visualising Results\n"
   ]
  },
  {
   "cell_type": "code",
   "execution_count": 19,
   "metadata": {},
   "outputs": [
    {
     "data": {
      "image/png": "[encoded data removed]",
      "text/plain": [
       "<Figure size 432x288 with 1 Axes>"
      ]
     },
     "metadata": {
      "needs_background": "light"
     },
     "output_type": "display_data"
    },
    {
     "data": {
      "image/png": "[encoded data removed]",
      "text/plain": [
       "<Figure size 432x288 with 1 Axes>"
      ]
     },
     "metadata": {
      "needs_background": "light"
     },
     "output_type": "display_data"
    }
   ],
   "source": [
    "acc = history.history['accuracy']\n",
    "val_acc = history.history['val_loss']\n",
    "loss = history.history['loss']\n",
    "val_loss = history.history['val_loss']\n",
    "\n",
    "epochs = range(1, len(acc) + 1)\n",
    "\n",
    "plt.plot(epochs, acc, 'blue', label='Training acc')\n",
    "plt.plot(epochs, val_acc, 'red', label='Validation acc')\n",
    "plt.title('Classifier: accuracy')\n",
    "plt.legend()\n",
    "\n",
    "plt.figure()\n",
    "\n",
    "plt.plot(epochs, loss, 'blue', label='Training loss')\n",
    "plt.plot(epochs, val_loss, 'red', label='Validation loss')\n",
    "plt.title('Classifier: loss')\n",
    "plt.legend()\n",
    "\n",
    "plt.show()\n"
   ]
  },
  {
   "cell_type": "code",
   "execution_count": 22,
   "metadata": {},
   "outputs": [
    {
     "name": "stdout",
     "output_type": "stream",
     "text": [
      "221/221 [============================>.] - ETA: 0s - loss: 1.0763 - accuracy: 0.5910WARNING:tensorflow:Your input ran out of data; interrupting training. Make sure that your dataset or generator can generate at least `steps_per_epoch * epochs` batches (in this case, 221.8125 batches). You may need to use the repeat() function when building your dataset.\n",
      "221/221 [==============================] - 66s 299ms/step - loss: 1.0763 - accuracy: 0.5910\n",
      "[INFO] Validation: accuracy = 0.590999  ;  loss_v = 1.076313\n"
     ]
    }
   ],
   "source": [
    "loss_v, accuracy_v = model.evaluate(validation_generator, steps=(validation_generator.n / batch_size) + 1, verbose=1)\n",
    "print(\"[INFO] Validation: accuracy = %f  ;  loss_v = %f\" % (accuracy_v, loss_v))\n"
   ]
  },
  {
   "cell_type": "code",
   "execution_count": 31,
   "metadata": {},
   "outputs": [
    {
     "name": "stdout",
     "output_type": "stream",
     "text": [
      "[INFO] running predictions for classifier model...\n",
      "\n",
      "221/221 [==============================] - 63s 284ms/step\n"
     ]
    }
   ],
   "source": [
    "#running predictions\n",
    "print('[INFO] running predictions for classifier model...\\n')\n",
    "\n",
    "y_pred = model.predict(validation_generator, steps=(validation_generator.n // batch_size) + 1, verbose=1)\n",
    "y_true = validation_generator.classes[validation_generator.index_array]\n"
   ]
  },
  {
   "cell_type": "markdown",
   "metadata": {},
   "source": [
    "## Analyse Convergence"
   ]
  },
  {
   "cell_type": "code",
   "execution_count": 44,
   "metadata": {},
   "outputs": [
    {
     "data": {
      "image/png": "[encoded data removed]",
      "text/plain": [
       "<Figure size 432x288 with 1 Axes>"
      ]
     },
     "metadata": {
      "needs_background": "light"
     },
     "output_type": "display_data"
    }
   ],
   "source": [
    "loss = history.history['loss']\n",
    "loss_val = history.history['val_loss']\n",
    "epochs = range(1, len(loss)+1)\n",
    "plt.plot(epochs, loss, 'bo', label='loss_train')\n",
    "plt.plot(epochs, loss_val, 'b', label='loss_val')\n",
    "plt.title('value of the loss function')\n",
    "plt.xlabel('epochs')\n",
    "plt.ylabel('value of the loss function')\n",
    "plt.legend()\n",
    "plt.grid()\n",
    "plt.show()"
   ]
  },
  {
   "cell_type": "code",
   "execution_count": 45,
   "metadata": {},
   "outputs": [
    {
     "data": {
      "image/png": "[encoded data removed]",
      "text/plain": [
       "<Figure size 432x288 with 1 Axes>"
      ]
     },
     "metadata": {
      "needs_background": "light"
     },
     "output_type": "display_data"
    }
   ],
   "source": [
    "acc = history.history['accuracy']\n",
    "acc_val = history.history['val_accuracy']\n",
    "epochs = range(1, len(loss)+1)\n",
    "plt.plot(epochs, acc, 'bo', label='accuracy_train')\n",
    "plt.plot(epochs, acc_val, 'b', label='accuracy_val')\n",
    "plt.title('accuracy')\n",
    "plt.xlabel('epochs')\n",
    "plt.ylabel('value of accuracy')\n",
    "plt.legend()\n",
    "plt.grid()\n",
    "plt.show()"
   ]
  },
  {
   "cell_type": "code",
   "execution_count": null,
   "metadata": {},
   "outputs": [],
   "source": []
  }
 ],
 "metadata": {
  "kernelspec": {
   "display_name": "Python 3",
   "language": "python",
   "name": "python3"
  }
 },
 "nbformat": 4,
 "nbformat_minor": 2
}
